{
  "nbformat": 4,
  "nbformat_minor": 0,
  "metadata": {
    "colab": {
      "provenance": [],
      "authorship_tag": "ABX9TyPx4Bb6m4VsS4oUPpdeMjSb",
      "include_colab_link": true
    },
    "kernelspec": {
      "name": "python3",
      "display_name": "Python 3"
    },
    "language_info": {
      "name": "python"
    }
  },
  "cells": [
    {
      "cell_type": "markdown",
      "metadata": {
        "id": "view-in-github",
        "colab_type": "text"
      },
      "source": [
        "<a href=\"https://colab.research.google.com/github/Sai-D-beep/AIML-2025/blob/main/2303A510B9_B13_Q01.ipynb\" target=\"_parent\"><img src=\"https://colab.research.google.com/assets/colab-badge.svg\" alt=\"Open In Colab\"/></a>"
      ]
    },
    {
      "cell_type": "code",
      "execution_count": null,
      "metadata": {
        "colab": {
          "base_uri": "https://localhost:8080/"
        },
        "id": "GBZlvvUUwvaY",
        "outputId": "76d398ff-9f0d-4977-d50a-9a92de0b3942"
      },
      "outputs": [
        {
          "output_type": "stream",
          "name": "stdout",
          "text": [
            "Collecting ucimlrepo\n",
            "  Downloading ucimlrepo-0.0.7-py3-none-any.whl.metadata (5.5 kB)\n",
            "Requirement already satisfied: pandas>=1.0.0 in /usr/local/lib/python3.10/dist-packages (from ucimlrepo) (2.2.2)\n",
            "Requirement already satisfied: certifi>=2020.12.5 in /usr/local/lib/python3.10/dist-packages (from ucimlrepo) (2024.8.30)\n",
            "Requirement already satisfied: numpy>=1.22.4 in /usr/local/lib/python3.10/dist-packages (from pandas>=1.0.0->ucimlrepo) (1.26.4)\n",
            "Requirement already satisfied: python-dateutil>=2.8.2 in /usr/local/lib/python3.10/dist-packages (from pandas>=1.0.0->ucimlrepo) (2.8.2)\n",
            "Requirement already satisfied: pytz>=2020.1 in /usr/local/lib/python3.10/dist-packages (from pandas>=1.0.0->ucimlrepo) (2024.2)\n",
            "Requirement already satisfied: tzdata>=2022.7 in /usr/local/lib/python3.10/dist-packages (from pandas>=1.0.0->ucimlrepo) (2024.2)\n",
            "Requirement already satisfied: six>=1.5 in /usr/local/lib/python3.10/dist-packages (from python-dateutil>=2.8.2->pandas>=1.0.0->ucimlrepo) (1.16.0)\n",
            "Downloading ucimlrepo-0.0.7-py3-none-any.whl (8.0 kB)\n",
            "Installing collected packages: ucimlrepo\n",
            "Successfully installed ucimlrepo-0.0.7\n"
          ]
        }
      ],
      "source": [
        "pip install ucimlrepo"
      ]
    },
    {
      "cell_type": "code",
      "source": [
        "from ucimlrepo import fetch_ucirepo\n",
        "\n",
        "# fetch dataset\n",
        "individual_household_electric_power_consumption = fetch_ucirepo(id=235)\n",
        "\n",
        "# data (as pandas dataframes)\n",
        "X = individual_household_electric_power_consumption.data.features\n",
        "y = individual_household_electric_power_consumption.data.targets\n",
        "\n",
        "# metadata\n",
        "print(individual_household_electric_power_consumption.metadata)\n",
        "\n",
        "# variable information\n",
        "print(individual_household_electric_power_consumption.variables)\n"
      ],
      "metadata": {
        "colab": {
          "base_uri": "https://localhost:8080/"
        },
        "id": "2pFTHcBGxths",
        "outputId": "b8d30127-1a08-4e3c-9c82-a1ea346fa585"
      },
      "execution_count": null,
      "outputs": [
        {
          "output_type": "stream",
          "name": "stderr",
          "text": [
            "/usr/local/lib/python3.10/dist-packages/ucimlrepo/fetch.py:97: DtypeWarning: Columns (2,3,4,5,6,7) have mixed types. Specify dtype option on import or set low_memory=False.\n",
            "  df = pd.read_csv(data_url)\n"
          ]
        },
        {
          "output_type": "stream",
          "name": "stdout",
          "text": [
            "{'uci_id': 235, 'name': 'Individual Household Electric Power Consumption', 'repository_url': 'https://archive.ics.uci.edu/dataset/235/individual+household+electric+power+consumption', 'data_url': 'https://archive.ics.uci.edu/static/public/235/data.csv', 'abstract': 'Measurements of electric power consumption in one household with a one-minute sampling rate over a period of almost 4 years. Different electrical quantities and some sub-metering values are available.', 'area': 'Physics and Chemistry', 'tasks': ['Regression', 'Clustering'], 'characteristics': ['Multivariate', 'Time-Series'], 'num_instances': 2075259, 'num_features': 9, 'feature_types': ['Real'], 'demographics': [], 'target_col': None, 'index_col': None, 'has_missing_values': 'no', 'missing_values_symbol': None, 'year_of_dataset_creation': 2006, 'last_updated': 'Fri Mar 08 2024', 'dataset_doi': '10.24432/C58K54', 'creators': ['Georges Hebrail', 'Alice Berard'], 'intro_paper': None, 'additional_info': {'summary': 'This archive contains 2075259 measurements gathered in a house located in Sceaux (7km of Paris, France) between December 2006 and November 2010 (47 months).\\r\\nNotes: \\r\\n1.(global_active_power*1000/60 - sub_metering_1 - sub_metering_2 - sub_metering_3) represents the active energy consumed every minute (in watt hour) in the household by electrical equipment not measured in sub-meterings 1, 2 and 3.\\r\\n2.The dataset contains some missing values in the measurements (nearly 1,25% of the rows). All calendar timestamps are present in the dataset but for some timestamps, the measurement values are missing: a missing value is represented by the absence of value between two consecutive semi-colon attribute separators. For instance, the dataset shows missing values on April 28, 2007.', 'purpose': None, 'funded_by': None, 'instances_represent': None, 'recommended_data_splits': None, 'sensitive_data': None, 'preprocessing_description': None, 'variable_info': '1.date: Date in format dd/mm/yyyy\\r\\n2.time: time in format hh:mm:ss\\r\\n3.global_active_power: household global minute-averaged active power (in kilowatt)\\r\\n4.global_reactive_power: household global minute-averaged reactive power (in kilowatt)\\r\\n5.voltage: minute-averaged voltage (in volt)\\r\\n6.global_intensity: household global minute-averaged current intensity (in ampere)\\r\\n7.sub_metering_1: energy sub-metering No. 1 (in watt-hour of active energy). It corresponds to the kitchen, containing mainly a dishwasher, an oven and a microwave (hot plates are not electric but gas powered).\\r\\n8.sub_metering_2: energy sub-metering No. 2 (in watt-hour of active energy). It corresponds to the laundry room, containing a washing-machine, a tumble-drier, a refrigerator and a light.\\r\\n9.sub_metering_3: energy sub-metering No. 3 (in watt-hour of active energy). It corresponds to an electric water-heater and an air-conditioner.', 'citation': None}}\n",
            "                    name     role         type demographic description units  \\\n",
            "0                   Date  Feature         Date        None        None  None   \n",
            "1                   Time  Feature  Categorical        None        None  None   \n",
            "2    Global_active_power  Feature   Continuous        None        None  None   \n",
            "3  Global_reactive_power  Feature   Continuous        None        None  None   \n",
            "4                Voltage  Feature   Continuous        None        None  None   \n",
            "5       Global_intensity  Feature   Continuous        None        None  None   \n",
            "6         Sub_metering_1  Feature   Continuous        None        None  None   \n",
            "7         Sub_metering_2  Feature   Continuous        None        None  None   \n",
            "8         Sub_metering_3  Feature   Continuous        None        None  None   \n",
            "\n",
            "  missing_values  \n",
            "0             no  \n",
            "1             no  \n",
            "2             no  \n",
            "3             no  \n",
            "4             no  \n",
            "5             no  \n",
            "6             no  \n",
            "7             no  \n",
            "8             no  \n"
          ]
        }
      ]
    },
    {
      "cell_type": "code",
      "source": [],
      "metadata": {
        "id": "0gRaEjyzy1Zr"
      },
      "execution_count": null,
      "outputs": []
    },
    {
      "cell_type": "code",
      "source": [
        "# Install necessary libraries\n",
        "!pip install ucimlrepo\n",
        "import pandas as pd\n",
        "from ucimlrepo import fetch_ucirepo\n",
        "\n",
        "# Fetch the dataset\n",
        "dataset = fetch_ucirepo(id=235)\n",
        "\n",
        "# Extract data into a Pandas DataFrame\n",
        "df = dataset.data.frame\n",
        "\n",
        "# Calculate the correlation matrix\n",
        "correlation_matrix = df.corr()\n",
        "\n",
        "# Identify the top 5 features most correlated with Global Active Power\n",
        "top_reasons = correlation_matrix['Global_active_power'].sort_values(ascending=False)\n",
        "print(\"Top 5 features influencing Electricity Consumption (Global Active Power):\")\n",
        "print(top_reasons.head(6))  # First one is always 'Global_active_power' itself\n"
      ],
      "metadata": {
        "colab": {
          "base_uri": "https://localhost:8080/",
          "height": 404
        },
        "id": "sVISryvfy1Ga",
        "outputId": "2a9d2391-48cd-4fc2-d9d0-7ddcd9e8540e"
      },
      "execution_count": null,
      "outputs": [
        {
          "output_type": "stream",
          "name": "stdout",
          "text": [
            "Requirement already satisfied: ucimlrepo in /usr/local/lib/python3.10/dist-packages (0.0.7)\n",
            "Requirement already satisfied: pandas>=1.0.0 in /usr/local/lib/python3.10/dist-packages (from ucimlrepo) (2.2.2)\n",
            "Requirement already satisfied: certifi>=2020.12.5 in /usr/local/lib/python3.10/dist-packages (from ucimlrepo) (2024.8.30)\n",
            "Requirement already satisfied: numpy>=1.22.4 in /usr/local/lib/python3.10/dist-packages (from pandas>=1.0.0->ucimlrepo) (1.26.4)\n",
            "Requirement already satisfied: python-dateutil>=2.8.2 in /usr/local/lib/python3.10/dist-packages (from pandas>=1.0.0->ucimlrepo) (2.8.2)\n",
            "Requirement already satisfied: pytz>=2020.1 in /usr/local/lib/python3.10/dist-packages (from pandas>=1.0.0->ucimlrepo) (2024.2)\n",
            "Requirement already satisfied: tzdata>=2022.7 in /usr/local/lib/python3.10/dist-packages (from pandas>=1.0.0->ucimlrepo) (2024.2)\n",
            "Requirement already satisfied: six>=1.5 in /usr/local/lib/python3.10/dist-packages (from python-dateutil>=2.8.2->pandas>=1.0.0->ucimlrepo) (1.16.0)\n"
          ]
        },
        {
          "output_type": "stream",
          "name": "stderr",
          "text": [
            "/usr/local/lib/python3.10/dist-packages/ucimlrepo/fetch.py:97: DtypeWarning: Columns (2,3,4,5,6,7) have mixed types. Specify dtype option on import or set low_memory=False.\n",
            "  df = pd.read_csv(data_url)\n"
          ]
        },
        {
          "output_type": "error",
          "ename": "AttributeError",
          "evalue": "'NoneType' object has no attribute 'corr'",
          "traceback": [
            "\u001b[0;31m---------------------------------------------------------------------------\u001b[0m",
            "\u001b[0;31mAttributeError\u001b[0m                            Traceback (most recent call last)",
            "\u001b[0;32m<ipython-input-3-513698ea7c90>\u001b[0m in \u001b[0;36m<cell line: 13>\u001b[0;34m()\u001b[0m\n\u001b[1;32m     11\u001b[0m \u001b[0;34m\u001b[0m\u001b[0m\n\u001b[1;32m     12\u001b[0m \u001b[0;31m# Calculate the correlation matrix\u001b[0m\u001b[0;34m\u001b[0m\u001b[0;34m\u001b[0m\u001b[0m\n\u001b[0;32m---> 13\u001b[0;31m \u001b[0mcorrelation_matrix\u001b[0m \u001b[0;34m=\u001b[0m \u001b[0mdf\u001b[0m\u001b[0;34m.\u001b[0m\u001b[0mcorr\u001b[0m\u001b[0;34m(\u001b[0m\u001b[0;34m)\u001b[0m\u001b[0;34m\u001b[0m\u001b[0;34m\u001b[0m\u001b[0m\n\u001b[0m\u001b[1;32m     14\u001b[0m \u001b[0;34m\u001b[0m\u001b[0m\n\u001b[1;32m     15\u001b[0m \u001b[0;31m# Identify the top 5 features most correlated with Global Active Power\u001b[0m\u001b[0;34m\u001b[0m\u001b[0;34m\u001b[0m\u001b[0m\n",
            "\u001b[0;31mAttributeError\u001b[0m: 'NoneType' object has no attribute 'corr'"
          ]
        }
      ]
    },
    {
      "source": [
        "# Install necessary libraries\n",
        "!pip install ucimlrepo\n",
        "import pandas as pd\n",
        "from ucimlrepo import fetch_ucirepo\n",
        "\n",
        "# Fetch the dataset\n",
        "dataset = fetch_ucirepo(id=235)\n",
        "\n",
        "# Extract data into a Pandas DataFrame\n",
        "X = dataset.data.features\n",
        "y = dataset.data.targets\n",
        "df = pd.concat([X, y], axis=1)  # Combine features and targets into a single DataFrame\n",
        "\n",
        "# Convert 'Date' and 'Time' columns to datetime objects\n",
        "df['Date'] = pd.to_datetime(df['Date'], format='%d/%m/%Y')  # Specify the date format\n",
        "df['Time'] = pd.to_datetime(df['Time'], format='%H:%M:%S').dt.time\n",
        "\n",
        "# Now, you can extract numerical features from the datetime columns if needed.\n",
        "# For example, to get the day of the week (Monday=0, Sunday=6):\n",
        "df['DayOfWeek'] = df['Date'].dt.dayofweek\n",
        "\n",
        "# Remove original 'Date' and 'Time' columns if they are no longer needed for correlation:\n",
        "df = df.drop(['Date', 'Time'], axis=1)\n",
        "\n",
        "# Replace '?' with NaN and convert columns to numeric\n",
        "for column in df.columns:\n",
        "    df[column] = pd.to_numeric(df[column], errors='coerce')  # 'coerce' converts errors to NaN\n",
        "\n",
        "# Calculate the correlation matrix\n",
        "correlation_matrix = df.corr()\n",
        "\n",
        "# Identify the top 5 features most correlated with Global Active Power\n",
        "top_reasons = correlation_matrix['Global_active_power'].sort_values(ascending=False)\n",
        "print(\"Top 5 features influencing Electricity Consumption (Global Active Power):\")\n",
        "print(top_reasons.head(6))  # First one is always 'Global_active_power' itself"
      ],
      "cell_type": "code",
      "metadata": {
        "colab": {
          "base_uri": "https://localhost:8080/"
        },
        "id": "BceqtA0D0J8A",
        "outputId": "20d4bb31-d6e7-4d5d-c1c4-bc14d4323b80"
      },
      "execution_count": null,
      "outputs": [
        {
          "output_type": "stream",
          "name": "stdout",
          "text": [
            "Requirement already satisfied: ucimlrepo in /usr/local/lib/python3.10/dist-packages (0.0.7)\n",
            "Requirement already satisfied: pandas>=1.0.0 in /usr/local/lib/python3.10/dist-packages (from ucimlrepo) (2.2.2)\n",
            "Requirement already satisfied: certifi>=2020.12.5 in /usr/local/lib/python3.10/dist-packages (from ucimlrepo) (2024.8.30)\n",
            "Requirement already satisfied: numpy>=1.22.4 in /usr/local/lib/python3.10/dist-packages (from pandas>=1.0.0->ucimlrepo) (1.26.4)\n",
            "Requirement already satisfied: python-dateutil>=2.8.2 in /usr/local/lib/python3.10/dist-packages (from pandas>=1.0.0->ucimlrepo) (2.8.2)\n",
            "Requirement already satisfied: pytz>=2020.1 in /usr/local/lib/python3.10/dist-packages (from pandas>=1.0.0->ucimlrepo) (2024.2)\n",
            "Requirement already satisfied: tzdata>=2022.7 in /usr/local/lib/python3.10/dist-packages (from pandas>=1.0.0->ucimlrepo) (2024.2)\n",
            "Requirement already satisfied: six>=1.5 in /usr/local/lib/python3.10/dist-packages (from python-dateutil>=2.8.2->pandas>=1.0.0->ucimlrepo) (1.16.0)\n"
          ]
        },
        {
          "output_type": "stream",
          "name": "stderr",
          "text": [
            "/usr/local/lib/python3.10/dist-packages/ucimlrepo/fetch.py:97: DtypeWarning: Columns (2,3,4,5,6,7) have mixed types. Specify dtype option on import or set low_memory=False.\n",
            "  df = pd.read_csv(data_url)\n"
          ]
        },
        {
          "output_type": "stream",
          "name": "stdout",
          "text": [
            "Top 5 features influencing Electricity Consumption (Global Active Power):\n",
            "Global_active_power      1.000000\n",
            "Global_intensity         0.998889\n",
            "Sub_metering_3           0.638555\n",
            "Sub_metering_1           0.484401\n",
            "Sub_metering_2           0.434569\n",
            "Global_reactive_power    0.247017\n",
            "Name: Global_active_power, dtype: float64\n"
          ]
        }
      ]
    },
    {
      "source": [
        "# Find the row with the highest electricity consumption (Global Active Power)\n",
        "max_consumption_row = df.loc[df['Global_active_power'].idxmax()]\n",
        "print(\"\\nRow index when consumption was highest:\")\n",
        "print(df['Global_active_power'].idxmax())\n",
        "# You can access other columns from this row using the index:\n",
        "# For example, to access 'Global_reactive_power':\n",
        "print(f\"Global_reactive_power: {df.loc[df['Global_active_power'].idxmax(), 'Global_reactive_power']}\")"
      ],
      "cell_type": "code",
      "metadata": {
        "colab": {
          "base_uri": "https://localhost:8080/"
        },
        "id": "SdEOQeyn0st5",
        "outputId": "ac95d565-8f96-4037-96a1-fef947034aa6"
      },
      "execution_count": null,
      "outputs": [
        {
          "output_type": "stream",
          "name": "stdout",
          "text": [
            "\n",
            "Row index when consumption was highest:\n",
            "1150545\n",
            "Global_reactive_power: 0.174\n"
          ]
        }
      ]
    },
    {
      "cell_type": "code",
      "source": [
        "# Find the max and min electricity consumption (Global Active Power)\n",
        "max_consumption = df['Global_active_power'].max()\n",
        "min_consumption = df['Global_active_power'].min()\n",
        "print(f\"\\nMax Consumption: {max_consumption}, Min Consumption: {min_consumption}\")\n"
      ],
      "metadata": {
        "colab": {
          "base_uri": "https://localhost:8080/"
        },
        "id": "tpz1_Koh03ym",
        "outputId": "d1488231-f742-49f1-8579-e0d2d5d6aa34"
      },
      "execution_count": null,
      "outputs": [
        {
          "output_type": "stream",
          "name": "stdout",
          "text": [
            "\n",
            "Max Consumption: 11.122, Min Consumption: 0.076\n"
          ]
        }
      ]
    },
    {
      "cell_type": "code",
      "source": [
        "# Compare the sub-metering systems' total consumption\n",
        "sub_metering = ['Sub_metering_1', 'Sub_metering_2', 'Sub_metering_3']\n",
        "total_consumption_per_sub_metering = df[sub_metering].sum()\n",
        "print(\"\\nTotal consumption per sub-metering system:\")\n",
        "print(total_consumption_per_sub_metering)\n"
      ],
      "metadata": {
        "colab": {
          "base_uri": "https://localhost:8080/"
        },
        "id": "3bDlL75r06s0",
        "outputId": "ccf7020b-5102-49df-8a89-4a229fcd7322"
      },
      "execution_count": null,
      "outputs": [
        {
          "output_type": "stream",
          "name": "stdout",
          "text": [
            "\n",
            "Total consumption per sub-metering system:\n",
            "Sub_metering_1     2299135.0\n",
            "Sub_metering_2     2661031.0\n",
            "Sub_metering_3    13235167.0\n",
            "dtype: float64\n"
          ]
        }
      ]
    },
    {
      "cell_type": "code",
      "source": [
        "# Count the occurrences of each unique value in Global Active Power\n",
        "global_active_power_counts = df['Global_active_power'].value_counts()\n",
        "print(\"\\nConsumption counts of Global Active Power:\")\n",
        "print(global_active_power_counts)\n"
      ],
      "metadata": {
        "colab": {
          "base_uri": "https://localhost:8080/"
        },
        "id": "S6yuBOXy08BD",
        "outputId": "541e0602-361b-4173-86cb-efce671ece99"
      },
      "execution_count": null,
      "outputs": [
        {
          "output_type": "stream",
          "name": "stdout",
          "text": [
            "\n",
            "Consumption counts of Global Active Power:\n",
            "Global_active_power\n",
            "0.218    9565\n",
            "0.216    9363\n",
            "0.322    9350\n",
            "0.324    9304\n",
            "0.326    9187\n",
            "         ... \n",
            "7.094       1\n",
            "7.930       1\n",
            "8.274       1\n",
            "8.246       1\n",
            "8.600       1\n",
            "Name: count, Length: 4186, dtype: int64\n"
          ]
        }
      ]
    },
    {
      "source": [
        "# Install necessary libraries\n",
        "!pip install scikit-learn ucimlrepo\n",
        "\n",
        "import pandas as pd\n",
        "import numpy as np\n",
        "from ucimlrepo import fetch_ucirepo\n",
        "from sklearn.cluster import KMeans\n",
        "from sklearn.preprocessing import StandardScaler\n",
        "from sklearn.metrics import silhouette_score\n",
        "import matplotlib.pyplot as plt\n",
        "\n",
        "# Fetch the dataset\n",
        "dataset = fetch_ucirepo(id=235)\n",
        "\n",
        "# Extract data into a Pandas DataFrame\n",
        "# Check if dataset.data.frame is None and handle it\n",
        "df = dataset.data.frame\n",
        "if df is None:\n",
        "    print(\"Error: dataset.data.frame is None. Check if the dataset was loaded correctly.\")\n",
        "    # Add code here to handle the case where df is None,\n",
        "    # such as loading the dataset from a local file or retrying the fetch.\n",
        "    # For example:\n",
        "    # df = pd.read_csv('local_dataset_file.csv')\n",
        "else:\n",
        "    # Preprocess the data (handle missing values and scale features)\n",
        "    features = df[['Global_active_power', 'Global_reactive_power', 'Voltage', 'Sub_metering_1', 'Sub_metering_2', 'Sub_metering_3']].dropna()\n",
        "    scaler = StandardScaler()\n"
      ],
      "cell_type": "code",
      "metadata": {
        "colab": {
          "base_uri": "https://localhost:8080/"
        },
        "id": "Fv1DM9GR1TG6",
        "outputId": "df5c03a8-6130-4155-b3bf-30784a90ad68"
      },
      "execution_count": null,
      "outputs": [
        {
          "output_type": "stream",
          "name": "stdout",
          "text": [
            "Requirement already satisfied: scikit-learn in /usr/local/lib/python3.10/dist-packages (1.5.2)\n",
            "Requirement already satisfied: ucimlrepo in /usr/local/lib/python3.10/dist-packages (0.0.7)\n",
            "Requirement already satisfied: numpy>=1.19.5 in /usr/local/lib/python3.10/dist-packages (from scikit-learn) (1.26.4)\n",
            "Requirement already satisfied: scipy>=1.6.0 in /usr/local/lib/python3.10/dist-packages (from scikit-learn) (1.13.1)\n",
            "Requirement already satisfied: joblib>=1.2.0 in /usr/local/lib/python3.10/dist-packages (from scikit-learn) (1.4.2)\n",
            "Requirement already satisfied: threadpoolctl>=3.1.0 in /usr/local/lib/python3.10/dist-packages (from scikit-learn) (3.5.0)\n",
            "Requirement already satisfied: pandas>=1.0.0 in /usr/local/lib/python3.10/dist-packages (from ucimlrepo) (2.2.2)\n",
            "Requirement already satisfied: certifi>=2020.12.5 in /usr/local/lib/python3.10/dist-packages (from ucimlrepo) (2024.8.30)\n",
            "Requirement already satisfied: python-dateutil>=2.8.2 in /usr/local/lib/python3.10/dist-packages (from pandas>=1.0.0->ucimlrepo) (2.8.2)\n",
            "Requirement already satisfied: pytz>=2020.1 in /usr/local/lib/python3.10/dist-packages (from pandas>=1.0.0->ucimlrepo) (2024.2)\n",
            "Requirement already satisfied: tzdata>=2022.7 in /usr/local/lib/python3.10/dist-packages (from pandas>=1.0.0->ucimlrepo) (2024.2)\n",
            "Requirement already satisfied: six>=1.5 in /usr/local/lib/python3.10/dist-packages (from python-dateutil>=2.8.2->pandas>=1.0.0->ucimlrepo) (1.16.0)\n"
          ]
        },
        {
          "output_type": "stream",
          "name": "stderr",
          "text": [
            "/usr/local/lib/python3.10/dist-packages/ucimlrepo/fetch.py:97: DtypeWarning: Columns (2,3,4,5,6,7) have mixed types. Specify dtype option on import or set low_memory=False.\n",
            "  df = pd.read_csv(data_url)\n"
          ]
        },
        {
          "output_type": "stream",
          "name": "stdout",
          "text": [
            "Error: dataset.data.frame is None. Check if the dataset was loaded correctly.\n"
          ]
        }
      ]
    }
  ]
}